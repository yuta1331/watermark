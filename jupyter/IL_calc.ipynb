{
 "cells": [
  {
   "cell_type": "code",
   "execution_count": 3,
   "metadata": {},
   "outputs": [
    {
     "name": "stdout",
     "output_type": "stream",
     "text": [
      "['女', '0*********', '30*-****', '茨城県', '*', '*', '*', '*', '19**', '10']\n",
      "['女', '0*********', '30*-****', '茨城県', '*', '*', '*', '*', '19**', '10']\n",
      "['男', '0*********', '3**-****', '茨城県', '*', '*', '*', '*', '19**', '10']\n",
      "['女', '02********', '30*-****', '茨城県', '*', '*', '*', '*', '19**', '10']\n",
      "['女', '02********', '300-0***', '茨城県', 'つくばみらい市', '*', '*', '*', '19**', '10']\n",
      "['女', '02********', '306-0***', '茨城県', '坂東市', '*', '*', '*', '19**', '10']\n",
      "['女', '02********', '314-0***', '茨城県', '神栖市', '*', '*', '*', '19**', '10']\n",
      "['女', '02********', '315-0***', '茨城県', '石岡市', '*', '*', '*', '19**', '10']\n",
      "['女', '02********', '37*-****', '群馬県', '沼田市', '*', '*', '*', '19**', '10']\n",
      "['女', '02********', '370-****', '群馬県', '高崎市', '*', '*', '*', '19**', '10']\n"
     ]
    }
   ],
   "source": [
    "import sys\n",
    "sys.path.append(\"../\")\n",
    "import consts\n",
    "import api\n",
    "import pickle\n",
    "\n",
    "original_file = '../evaluation/original_data.csv'\n",
    "anonymized_file = '../' + consts.ORIGIN_FILE\n",
    "watermarked_file = '../' + consts.MODIFIED_FILE\n",
    "\n",
    "csv_header, org_list = api.parsed_list(original_file, True)\n",
    "_, anonymized_list = api.parsed_list(anonymized_file, True)\n",
    "_, watermarked_list = api.parsed_list(watermarked_file, True)\n",
    "\n",
    "for i in range(10):\n",
    "    print(watermarked_list[i])"
   ]
  }
 ],
 "metadata": {
  "kernelspec": {
   "display_name": "Python 3",
   "language": "python",
   "name": "python3"
  },
  "language_info": {
   "codemirror_mode": {
    "name": "ipython",
    "version": 3
   },
   "file_extension": ".py",
   "mimetype": "text/x-python",
   "name": "python",
   "nbconvert_exporter": "python",
   "pygments_lexer": "ipython3",
   "version": "3.6.4"
  }
 },
 "nbformat": 4,
 "nbformat_minor": 2
}
