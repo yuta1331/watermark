{
 "cells": [
  {
   "cell_type": "code",
   "execution_count": 28,
   "metadata": {},
   "outputs": [],
   "source": [
    "import sys\n",
    "sys.path.append(\"../\")\n",
    "import consts\n",
    "import api\n",
    "from subset import addr_operation\n",
    "from Anonymizer import anonymizer\n",
    "import pickle\n",
    "from copy import deepcopy\n",
    "\n",
    "attr_list = consts.ATTR_LIST\n",
    "attr_list.append('seq')\n",
    "\n",
    "original_file = '../evaluation/original_data.csv'\n",
    "anonymized_file = '../' + consts.ORIGIN_FILE\n",
    "watermarked_file = '../' + consts.MODIFIED_FILE\n",
    "\n",
    "csv_header, org_list = api.parsed_list(original_file, True)\n",
    "_, anonymized_list = api.parsed_list(anonymized_file, True)\n",
    "_, watermarked_list = api.parsed_list(watermarked_file, True)"
   ]
  },
  {
   "cell_type": "code",
   "execution_count": 32,
   "metadata": {},
   "outputs": [],
   "source": [
    "def calc_addr_tree(addr_tree, addr, addr_attr):\n",
    "    for addr_freq in addr_tree:\n",
    "        if addr == addr_freq[0]:\n",
    "            addr_freq[1] += 1\n",
    "            break\n",
    "    else:\n",
    "        addr_tree.append([addr, 1])\n",
    "    if addr == ['関東', '*', '*', '*', '*']:\n",
    "        return\n",
    "    else:\n",
    "        calc_addr_tree(addr_tree, anonymizer.address_masking(addr_attr, deepcopy(addr)), addr_attr)"
   ]
  },
  {
   "cell_type": "code",
   "execution_count": 31,
   "metadata": {},
   "outputs": [],
   "source": [
    "def addr_tree(addr_l):\n",
    "    # treeじゃないけど\n",
    "    # addr_tree = [addr_freq, ...]\n",
    "    # addr_freq = [[listed_generalized_addr], freq]\n",
    "    addr_attr = ['addr0', 'addr1', 'addr2', 'addr3', 'addr4']\n",
    "    \n",
    "    addr_tree = list()\n",
    "    \n",
    "    for addr in addr_l:\n",
    "        calc_addr_tree(addr_tree, addr, addr_attr)\n",
    "    return addr_tree"
   ]
  },
  {
   "cell_type": "code",
   "execution_count": 4,
   "metadata": {},
   "outputs": [],
   "source": [
    "def loss(attr_type, tree, bottom_attr, top_attr=None):\n",
    "    if top_attr is not None:\n",
    "        return\n",
    "    return"
   ]
  },
  {
   "cell_type": "code",
   "execution_count": 35,
   "metadata": {},
   "outputs": [],
   "source": [
    "def IL_calc(org_l, mod_l, attr_list):\n",
    "    # sequential numberをintに\n",
    "    for org_r in org_l:\n",
    "        org_r.append(int(org_r.pop()))\n",
    "    for mod_r in mod_l:\n",
    "        mod_r.append(int(mod_r.pop()))\n",
    "    \n",
    "    # sort by sequential number\n",
    "    org_l.sort(key=lambda x: x[-1])\n",
    "    mod_l.sort(key=lambda x: x[-1])\n",
    "    \n",
    "    # insert empty record to mod_l\n",
    "    for i, mod_r in enumerate(mod_l):\n",
    "        if i != mod_r[-1]:\n",
    "            mod_l.insert(i, ['empty', i])\n",
    "    \n",
    "    # IL of addr\n",
    "    addr_first, addr_last = addr_operation.addr_range_catcher(attr_list)\n",
    "    \n",
    "    ## get original addr list\n",
    "    org_addr_l = [x[addr_first:addr_last+1] for x in org_l]\n",
    "    \n",
    "    ## get modified addr list\n",
    "    mod_addr_l = list()\n",
    "    for mod_r in mod_l:\n",
    "        if mod_r[0] == 'empty':\n",
    "            mod_addr_l.append(['関東', '*', '*', '*', '*'])\n",
    "        else:\n",
    "            mod_addr_l.append(mod_r[addr_first:addr_last+1])\n",
    "        \n",
    "    ## address tree from original addr list\n",
    "    addr_tree_ = addr_tree(org_addr_l)\n",
    "    \n",
    "    ## IL calculation\n",
    "    '''\n",
    "    for i, mod_addr in enumerate(mod_addr_l):\n",
    "        org_addr = org_addr_l[i]\n",
    "        numerator = loss('addr', addr_tree_, org_addr)\n",
    "        denominator = numerator + loss('addr', addr_tree_, mod_addr, org_addr)\n",
    "        IL = numerator / denominator\n",
    "    '''\n",
    "    \n",
    "    return"
   ]
  },
  {
   "cell_type": "code",
   "execution_count": 36,
   "metadata": {},
   "outputs": [],
   "source": [
    "IL_calc(org_list, anonymized_list, attr_list)"
   ]
  }
 ],
 "metadata": {
  "kernelspec": {
   "display_name": "Python 3",
   "language": "python",
   "name": "python3"
  },
  "language_info": {
   "codemirror_mode": {
    "name": "ipython",
    "version": 3
   },
   "file_extension": ".py",
   "mimetype": "text/x-python",
   "name": "python",
   "nbconvert_exporter": "python",
   "pygments_lexer": "ipython3",
   "version": "3.7.0"
  }
 },
 "nbformat": 4,
 "nbformat_minor": 2
}
