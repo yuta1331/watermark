{
 "cells": [
  {
   "cell_type": "code",
   "execution_count": 3,
   "metadata": {},
   "outputs": [],
   "source": [
    "import sys\n",
    "sys.path.append(\"../\")\n",
    "import watermark\n",
    "import pickle\n",
    "\n",
    "with open(\"../\" + watermark.ADDR2FORMAT_PKL, 'rb') as f:\n",
    "    addr2formats = pickle.load(f)\n",
    "with open(\"../\" + watermark.ADDR2GEO_PKL, 'rb') as f:\n",
    "    addr2geos = pickle.load(f)\n",
    "num_cand = 4"
   ]
  },
  {
   "cell_type": "code",
   "execution_count": 4,
   "metadata": {},
   "outputs": [
    {
     "name": "stdout",
     "output_type": "stream",
     "text": [
      "東京都渋谷区神南 0.0\n",
      "東京都渋谷区 0.0017629420354310494\n",
      "東京都渋谷区神南2 0.002370661141958952\n",
      "東京都渋谷区神南1 0.002370661141974238\n"
     ]
    }
   ],
   "source": [
    "listed_addr = ['東京都渋谷区神南']\n",
    "nst_addrs, nst_ds = watermark.nearest_addrs(listed_addr, num_cand, addr2formats, addr2geos, distance=True)\n",
    "for i in range(num_cand):\n",
    "    print(nst_addrs[i], nst_ds[i])"
   ]
  },
  {
   "cell_type": "code",
   "execution_count": null,
   "metadata": {},
   "outputs": [],
   "source": []
  }
 ],
 "metadata": {
  "kernelspec": {
   "display_name": "Python 3",
   "language": "python",
   "name": "python3"
  },
  "language_info": {
   "codemirror_mode": {
    "name": "ipython",
    "version": 3
   },
   "file_extension": ".py",
   "mimetype": "text/x-python",
   "name": "python",
   "nbconvert_exporter": "python",
   "pygments_lexer": "ipython3",
   "version": "3.7.0"
  }
 },
 "nbformat": 4,
 "nbformat_minor": 2
}
